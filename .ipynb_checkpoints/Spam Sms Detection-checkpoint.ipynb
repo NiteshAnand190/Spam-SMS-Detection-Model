{
 "cells": [
  {
   "cell_type": "code",
   "execution_count": 1,
   "id": "881b9d97",
   "metadata": {},
   "outputs": [],
   "source": [
    "import numpy as np # linear algebra\n",
    "import pandas as pd # data processing, CSV file I/O (e.g. pd.read_csv)"
   ]
  },
  {
   "cell_type": "code",
   "execution_count": 2,
   "id": "c63d2a9f",
   "metadata": {},
   "outputs": [],
   "source": [
    "import seaborn as sns #for data visulization\n",
    "import matplotlib.pyplot as plt #for map plotting and chart\n",
    "%matplotlib inline "
   ]
  },
  {
   "cell_type": "code",
   "execution_count": 3,
   "id": "3845c9e8",
   "metadata": {},
   "outputs": [
    {
     "data": {
      "text/html": [
       "<div>\n",
       "<style scoped>\n",
       "    .dataframe tbody tr th:only-of-type {\n",
       "        vertical-align: middle;\n",
       "    }\n",
       "\n",
       "    .dataframe tbody tr th {\n",
       "        vertical-align: top;\n",
       "    }\n",
       "\n",
       "    .dataframe thead th {\n",
       "        text-align: right;\n",
       "    }\n",
       "</style>\n",
       "<table border=\"1\" class=\"dataframe\">\n",
       "  <thead>\n",
       "    <tr style=\"text-align: right;\">\n",
       "      <th></th>\n",
       "      <th>v1</th>\n",
       "      <th>v2</th>\n",
       "      <th>Unnamed: 2</th>\n",
       "      <th>Unnamed: 3</th>\n",
       "      <th>Unnamed: 4</th>\n",
       "    </tr>\n",
       "  </thead>\n",
       "  <tbody>\n",
       "    <tr>\n",
       "      <th>0</th>\n",
       "      <td>ham</td>\n",
       "      <td>Go until jurong point, crazy.. Available only ...</td>\n",
       "      <td>NaN</td>\n",
       "      <td>NaN</td>\n",
       "      <td>NaN</td>\n",
       "    </tr>\n",
       "    <tr>\n",
       "      <th>1</th>\n",
       "      <td>ham</td>\n",
       "      <td>Ok lar... Joking wif u oni...</td>\n",
       "      <td>NaN</td>\n",
       "      <td>NaN</td>\n",
       "      <td>NaN</td>\n",
       "    </tr>\n",
       "    <tr>\n",
       "      <th>2</th>\n",
       "      <td>spam</td>\n",
       "      <td>Free entry in 2 a wkly comp to win FA Cup fina...</td>\n",
       "      <td>NaN</td>\n",
       "      <td>NaN</td>\n",
       "      <td>NaN</td>\n",
       "    </tr>\n",
       "    <tr>\n",
       "      <th>3</th>\n",
       "      <td>ham</td>\n",
       "      <td>U dun say so early hor... U c already then say...</td>\n",
       "      <td>NaN</td>\n",
       "      <td>NaN</td>\n",
       "      <td>NaN</td>\n",
       "    </tr>\n",
       "    <tr>\n",
       "      <th>4</th>\n",
       "      <td>ham</td>\n",
       "      <td>Nah I don't think he goes to usf, he lives aro...</td>\n",
       "      <td>NaN</td>\n",
       "      <td>NaN</td>\n",
       "      <td>NaN</td>\n",
       "    </tr>\n",
       "  </tbody>\n",
       "</table>\n",
       "</div>"
      ],
      "text/plain": [
       "     v1                                                 v2 Unnamed: 2  \\\n",
       "0   ham  Go until jurong point, crazy.. Available only ...        NaN   \n",
       "1   ham                      Ok lar... Joking wif u oni...        NaN   \n",
       "2  spam  Free entry in 2 a wkly comp to win FA Cup fina...        NaN   \n",
       "3   ham  U dun say so early hor... U c already then say...        NaN   \n",
       "4   ham  Nah I don't think he goes to usf, he lives aro...        NaN   \n",
       "\n",
       "  Unnamed: 3 Unnamed: 4  \n",
       "0        NaN        NaN  \n",
       "1        NaN        NaN  \n",
       "2        NaN        NaN  \n",
       "3        NaN        NaN  \n",
       "4        NaN        NaN  "
      ]
     },
     "execution_count": 3,
     "metadata": {},
     "output_type": "execute_result"
    }
   ],
   "source": [
    "data=pd.read_csv(\"spam.csv\",encoding=\"latin\")\n",
    "data.head() # to display the first few rows of the DataFrame"
   ]
  },
  {
   "cell_type": "code",
   "execution_count": 4,
   "id": "dc411706",
   "metadata": {},
   "outputs": [
    {
     "data": {
      "text/plain": [
       "Index(['v1', 'v2', 'Unnamed: 2', 'Unnamed: 3', 'Unnamed: 4'], dtype='object')"
      ]
     },
     "execution_count": 4,
     "metadata": {},
     "output_type": "execute_result"
    }
   ],
   "source": [
    "data.columns #returns the col names of the dataframe"
   ]
  },
  {
   "cell_type": "code",
   "execution_count": 5,
   "id": "2cd9f6b5",
   "metadata": {},
   "outputs": [],
   "source": [
    "data=data.drop(columns=[\"Unnamed: 2\",\"Unnamed: 3\",\"Unnamed: 4\"]) #to drop the names of specified coloumns "
   ]
  },
  {
   "cell_type": "code",
   "execution_count": 6,
   "id": "265043db",
   "metadata": {},
   "outputs": [],
   "source": [
    "data=data.rename(\n",
    "{\n",
    "    \"v1\":\"Category\",\n",
    "    \"v2\":\"Message\"\n",
    "},\n",
    "    axis=1\n",
    ")"
   ]
  },
  {
   "cell_type": "code",
   "execution_count": 7,
   "id": "0e855ce1",
   "metadata": {},
   "outputs": [
    {
     "data": {
      "text/html": [
       "<div>\n",
       "<style scoped>\n",
       "    .dataframe tbody tr th:only-of-type {\n",
       "        vertical-align: middle;\n",
       "    }\n",
       "\n",
       "    .dataframe tbody tr th {\n",
       "        vertical-align: top;\n",
       "    }\n",
       "\n",
       "    .dataframe thead th {\n",
       "        text-align: right;\n",
       "    }\n",
       "</style>\n",
       "<table border=\"1\" class=\"dataframe\">\n",
       "  <thead>\n",
       "    <tr style=\"text-align: right;\">\n",
       "      <th></th>\n",
       "      <th>Category</th>\n",
       "      <th>Message</th>\n",
       "    </tr>\n",
       "  </thead>\n",
       "  <tbody>\n",
       "    <tr>\n",
       "      <th>0</th>\n",
       "      <td>ham</td>\n",
       "      <td>Go until jurong point, crazy.. Available only ...</td>\n",
       "    </tr>\n",
       "    <tr>\n",
       "      <th>1</th>\n",
       "      <td>ham</td>\n",
       "      <td>Ok lar... Joking wif u oni...</td>\n",
       "    </tr>\n",
       "    <tr>\n",
       "      <th>2</th>\n",
       "      <td>spam</td>\n",
       "      <td>Free entry in 2 a wkly comp to win FA Cup fina...</td>\n",
       "    </tr>\n",
       "    <tr>\n",
       "      <th>3</th>\n",
       "      <td>ham</td>\n",
       "      <td>U dun say so early hor... U c already then say...</td>\n",
       "    </tr>\n",
       "    <tr>\n",
       "      <th>4</th>\n",
       "      <td>ham</td>\n",
       "      <td>Nah I don't think he goes to usf, he lives aro...</td>\n",
       "    </tr>\n",
       "  </tbody>\n",
       "</table>\n",
       "</div>"
      ],
      "text/plain": [
       "  Category                                            Message\n",
       "0      ham  Go until jurong point, crazy.. Available only ...\n",
       "1      ham                      Ok lar... Joking wif u oni...\n",
       "2     spam  Free entry in 2 a wkly comp to win FA Cup fina...\n",
       "3      ham  U dun say so early hor... U c already then say...\n",
       "4      ham  Nah I don't think he goes to usf, he lives aro..."
      ]
     },
     "execution_count": 7,
     "metadata": {},
     "output_type": "execute_result"
    }
   ],
   "source": [
    "data.head()"
   ]
  },
  {
   "cell_type": "code",
   "execution_count": 8,
   "id": "acb5def6",
   "metadata": {},
   "outputs": [
    {
     "data": {
      "text/plain": [
       "Category    0\n",
       "Message     0\n",
       "dtype: int64"
      ]
     },
     "execution_count": 8,
     "metadata": {},
     "output_type": "execute_result"
    }
   ],
   "source": [
    "data.isnull().sum() #to calculate missing values"
   ]
  },
  {
   "cell_type": "code",
   "execution_count": 9,
   "id": "1f180585",
   "metadata": {},
   "outputs": [
    {
     "name": "stdout",
     "output_type": "stream",
     "text": [
      "<class 'pandas.core.frame.DataFrame'>\n",
      "RangeIndex: 5572 entries, 0 to 5571\n",
      "Data columns (total 2 columns):\n",
      " #   Column    Non-Null Count  Dtype \n",
      "---  ------    --------------  ----- \n",
      " 0   Category  5572 non-null   object\n",
      " 1   Message   5572 non-null   object\n",
      "dtypes: object(2)\n",
      "memory usage: 87.2+ KB\n"
     ]
    }
   ],
   "source": [
    "data.info()"
   ]
  },
  {
   "cell_type": "code",
   "execution_count": 10,
   "id": "cc544f94",
   "metadata": {},
   "outputs": [],
   "source": [
    "data[\"Message Length\"]=data[\"Message\"].apply(len) # DataFrame data will have a new column called \"Message Length\" that contains the length of each message in the \"Message\" column."
   ]
  },
  {
   "cell_type": "code",
   "execution_count": 11,
   "id": "8e9b1b06",
   "metadata": {},
   "outputs": [
    {
     "data": {
      "image/png": "[encoded data removed]",
      "text/plain": [
       "<Figure size 1200x800 with 1 Axes>"
      ]
     },
     "metadata": {},
     "output_type": "display_data"
    }
   ],
   "source": [
    "fig=plt.figure(figsize=(12,8))\n",
    "sns.histplot(\n",
    "    x=data[\"Message Length\"],\n",
    "    hue=data[\"Category\"]\n",
    ")\n",
    "plt.title(\"ham & spam messege length comparision\")\n",
    "plt.show()\n",
    "# a histogram plot comparing the message lengths of \"ham\" and \"spam\" categories, where the bars represent the\n",
    "# frequency of message lengths and are grouped by category."
   ]
  },
  {
   "cell_type": "code",
   "execution_count": 12,
   "id": "e490de71",
   "metadata": {},
   "outputs": [
    {
     "name": "stdout",
     "output_type": "stream",
     "text": [
      "Ham Messege Length Description:\n",
      " count    4825.000000\n",
      "mean       71.023627\n",
      "std        58.016023\n",
      "min         2.000000\n",
      "25%        33.000000\n",
      "50%        52.000000\n",
      "75%        92.000000\n",
      "max       910.000000\n",
      "Name: Message Length, dtype: float64\n",
      "************************************\n",
      "Spam Message Length Description:\n",
      " count    747.000000\n",
      "mean     138.866131\n",
      "std       29.183082\n",
      "min       13.000000\n",
      "25%      132.500000\n",
      "50%      149.000000\n",
      "75%      157.000000\n",
      "max      224.000000\n",
      "Name: Message Length, dtype: float64\n"
     ]
    }
   ],
   "source": [
    "ham_desc=data[data[\"Category\"]==\"ham\"][\"Message Length\"].describe()\n",
    "spam_desc=data[data[\"Category\"]==\"spam\"][\"Message Length\"].describe()\n",
    "\n",
    "print(\"Ham Messege Length Description:\\n\",ham_desc)\n",
    "print(\"************************************\")\n",
    "print(\"Spam Message Length Description:\\n\",spam_desc)\n",
    "#the descriptive statistics for the message lengths of the \"ham\" and \"spam\" categories in the DataFrame data\n",
    "# Each category will have its own section with information such as count, mean, standard deviation, minimum, maximum, and quartiles."
   ]
  },
  {
   "cell_type": "code",
   "execution_count": 13,
   "id": "e4592818",
   "metadata": {},
   "outputs": [
    {
     "data": {
      "text/html": [
       "<div>\n",
       "<style scoped>\n",
       "    .dataframe tbody tr th:only-of-type {\n",
       "        vertical-align: middle;\n",
       "    }\n",
       "\n",
       "    .dataframe tbody tr th {\n",
       "        vertical-align: top;\n",
       "    }\n",
       "\n",
       "    .dataframe thead th {\n",
       "        text-align: right;\n",
       "    }\n",
       "</style>\n",
       "<table border=\"1\" class=\"dataframe\">\n",
       "  <thead>\n",
       "    <tr style=\"text-align: right;\">\n",
       "      <th></th>\n",
       "      <th>Category</th>\n",
       "      <th>Message</th>\n",
       "      <th>Message Length</th>\n",
       "    </tr>\n",
       "  </thead>\n",
       "  <tbody>\n",
       "    <tr>\n",
       "      <th>count</th>\n",
       "      <td>5572</td>\n",
       "      <td>5572</td>\n",
       "      <td>5572.000000</td>\n",
       "    </tr>\n",
       "    <tr>\n",
       "      <th>unique</th>\n",
       "      <td>2</td>\n",
       "      <td>5169</td>\n",
       "      <td>NaN</td>\n",
       "    </tr>\n",
       "    <tr>\n",
       "      <th>top</th>\n",
       "      <td>ham</td>\n",
       "      <td>Sorry, I'll call later</td>\n",
       "      <td>NaN</td>\n",
       "    </tr>\n",
       "    <tr>\n",
       "      <th>freq</th>\n",
       "      <td>4825</td>\n",
       "      <td>30</td>\n",
       "      <td>NaN</td>\n",
       "    </tr>\n",
       "    <tr>\n",
       "      <th>mean</th>\n",
       "      <td>NaN</td>\n",
       "      <td>NaN</td>\n",
       "      <td>80.118808</td>\n",
       "    </tr>\n",
       "    <tr>\n",
       "      <th>std</th>\n",
       "      <td>NaN</td>\n",
       "      <td>NaN</td>\n",
       "      <td>59.690841</td>\n",
       "    </tr>\n",
       "    <tr>\n",
       "      <th>min</th>\n",
       "      <td>NaN</td>\n",
       "      <td>NaN</td>\n",
       "      <td>2.000000</td>\n",
       "    </tr>\n",
       "    <tr>\n",
       "      <th>25%</th>\n",
       "      <td>NaN</td>\n",
       "      <td>NaN</td>\n",
       "      <td>36.000000</td>\n",
       "    </tr>\n",
       "    <tr>\n",
       "      <th>50%</th>\n",
       "      <td>NaN</td>\n",
       "      <td>NaN</td>\n",
       "      <td>61.000000</td>\n",
       "    </tr>\n",
       "    <tr>\n",
       "      <th>75%</th>\n",
       "      <td>NaN</td>\n",
       "      <td>NaN</td>\n",
       "      <td>121.000000</td>\n",
       "    </tr>\n",
       "    <tr>\n",
       "      <th>max</th>\n",
       "      <td>NaN</td>\n",
       "      <td>NaN</td>\n",
       "      <td>910.000000</td>\n",
       "    </tr>\n",
       "  </tbody>\n",
       "</table>\n",
       "</div>"
      ],
      "text/plain": [
       "       Category                 Message  Message Length\n",
       "count      5572                    5572     5572.000000\n",
       "unique        2                    5169             NaN\n",
       "top         ham  Sorry, I'll call later             NaN\n",
       "freq       4825                      30             NaN\n",
       "mean        NaN                     NaN       80.118808\n",
       "std         NaN                     NaN       59.690841\n",
       "min         NaN                     NaN        2.000000\n",
       "25%         NaN                     NaN       36.000000\n",
       "50%         NaN                     NaN       61.000000\n",
       "75%         NaN                     NaN      121.000000\n",
       "max         NaN                     NaN      910.000000"
      ]
     },
     "execution_count": 13,
     "metadata": {},
     "output_type": "execute_result"
    }
   ],
   "source": [
    "data.describe(include=\"all\")"
   ]
  },
  {
   "cell_type": "code",
   "execution_count": 14,
   "id": "4b636df7",
   "metadata": {},
   "outputs": [
    {
     "data": {
      "text/plain": [
       "ham     4825\n",
       "spam     747\n",
       "Name: Category, dtype: int64"
      ]
     },
     "execution_count": 14,
     "metadata": {},
     "output_type": "execute_result"
    }
   ],
   "source": [
    "data[\"Category\"].value_counts()\n",
    "#the count of occurrences for each unique value in the \"Category\" column"
   ]
  },
  {
   "cell_type": "code",
   "execution_count": 15,
   "id": "fffb8b81",
   "metadata": {},
   "outputs": [
    {
     "data": {
      "image/png": "[encoded data removed]",
      "text/plain": [
       "<Figure size 640x480 with 1 Axes>"
      ]
     },
     "metadata": {},
     "output_type": "display_data"
    }
   ],
   "source": [
    "sns.countplot(\n",
    "    data=data,\n",
    "    x=\"Category\"\n",
    ")\n",
    "plt.title(\"ham vs spam\")\n",
    "plt.show()"
   ]
  },
  {
   "cell_type": "code",
   "execution_count": 16,
   "id": "1c41dbd1",
   "metadata": {},
   "outputs": [
    {
     "name": "stdout",
     "output_type": "stream",
     "text": [
      "Ham contains:86.59% of total data.\n",
      "Spam conatins:13.41% of total data.\n"
     ]
    }
   ],
   "source": [
    "ham_count=data[\"Category\"].value_counts()[0]\n",
    "spam_count=data[\"Category\"].value_counts()[1]\n",
    "\n",
    "total_count=data.shape[0]\n",
    "\n",
    "print(\"Ham contains:{:.2f}% of total data.\".format(ham_count/total_count*100))\n",
    "print(\"Spam conatins:{:.2f}% of total data.\".format(spam_count/total_count*100))\n",
    "#counts total percentage of ham and spam"
   ]
  },
  {
   "cell_type": "code",
   "execution_count": 17,
   "id": "1934f482",
   "metadata": {},
   "outputs": [],
   "source": [
    "#compute the length of majority & minority class\n",
    "minority_len=len(data[data[\"Category\"]==\"spam\"])\n",
    "majority_len=len(data[data[\"Category\"]==\"ham\"])\n",
    "\n",
    "#store the indices of majority and minority class\n",
    "minority_indices=data[data[\"Category\"]==\"spam\"].index\n",
    "majority_indices=data[data[\"Category\"]==\"ham\"].index\n",
    "\n",
    "#generate new majority indices from the total majority_indices\n",
    "#with size equal to minority class length so we obtain equivalent number of indices length\n",
    "random_majority_indices=np.random.choice(\n",
    "    majority_indices,\n",
    "    size=minority_len,\n",
    "    replace=False\n",
    ")\n",
    "\n",
    "#concatenate the two indices to obtain indices of new dataframe\n",
    "undersampled_indices=np.concatenate([minority_indices,random_majority_indices])\n",
    "\n",
    "#create df using new indices\n",
    "df=data.loc[undersampled_indices]\n",
    "\n",
    "#shuffle the sample\n",
    "df=df.sample(frac=1)\n",
    "\n",
    "#reset the index as its all mixed\n",
    "df=df.reset_index()\n",
    "\n",
    "#drop the older index\n",
    "df=df.drop(\n",
    "    columns=[\"index\"],\n",
    ")"
   ]
  },
  {
   "cell_type": "code",
   "execution_count": 18,
   "id": "335b4050",
   "metadata": {},
   "outputs": [
    {
     "data": {
      "text/plain": [
       "(1494, 3)"
      ]
     },
     "execution_count": 18,
     "metadata": {},
     "output_type": "execute_result"
    }
   ],
   "source": [
    "df.shape"
   ]
  },
  {
   "cell_type": "code",
   "execution_count": 19,
   "id": "3009cf54",
   "metadata": {},
   "outputs": [
    {
     "data": {
      "text/plain": [
       "spam    747\n",
       "ham     747\n",
       "Name: Category, dtype: int64"
      ]
     },
     "execution_count": 19,
     "metadata": {},
     "output_type": "execute_result"
    }
   ],
   "source": [
    "df[\"Category\"].value_counts()"
   ]
  },
  {
   "cell_type": "code",
   "execution_count": 20,
   "id": "a72e0c6e",
   "metadata": {},
   "outputs": [
    {
     "data": {
      "image/png": "[encoded data removed]",
      "text/plain": [
       "<Figure size 640x480 with 1 Axes>"
      ]
     },
     "metadata": {},
     "output_type": "display_data"
    }
   ],
   "source": [
    "sns.countplot(\n",
    "    data=df,\n",
    "    x=\"Category\"\n",
    ")\n",
    "plt.title(\"ham vs spam\")\n",
    "plt.show()\n"
   ]
  },
  {
   "cell_type": "code",
   "execution_count": 21,
   "id": "10607f2d",
   "metadata": {},
   "outputs": [
    {
     "data": {
      "text/html": [
       "<div>\n",
       "<style scoped>\n",
       "    .dataframe tbody tr th:only-of-type {\n",
       "        vertical-align: middle;\n",
       "    }\n",
       "\n",
       "    .dataframe tbody tr th {\n",
       "        vertical-align: top;\n",
       "    }\n",
       "\n",
       "    .dataframe thead th {\n",
       "        text-align: right;\n",
       "    }\n",
       "</style>\n",
       "<table border=\"1\" class=\"dataframe\">\n",
       "  <thead>\n",
       "    <tr style=\"text-align: right;\">\n",
       "      <th></th>\n",
       "      <th>Category</th>\n",
       "      <th>Message</th>\n",
       "      <th>Message Length</th>\n",
       "    </tr>\n",
       "  </thead>\n",
       "  <tbody>\n",
       "    <tr>\n",
       "      <th>0</th>\n",
       "      <td>spam</td>\n",
       "      <td>WIN a å£200 Shopping spree every WEEK Starting...</td>\n",
       "      <td>137</td>\n",
       "    </tr>\n",
       "    <tr>\n",
       "      <th>1</th>\n",
       "      <td>ham</td>\n",
       "      <td>Lol yep did that yesterday. Already got my fir...</td>\n",
       "      <td>101</td>\n",
       "    </tr>\n",
       "    <tr>\n",
       "      <th>2</th>\n",
       "      <td>ham</td>\n",
       "      <td>Easy ah?sen got selected means its good..</td>\n",
       "      <td>41</td>\n",
       "    </tr>\n",
       "    <tr>\n",
       "      <th>3</th>\n",
       "      <td>ham</td>\n",
       "      <td>Eat jap done oso aft ur lect wat... ÌÏ got lec...</td>\n",
       "      <td>62</td>\n",
       "    </tr>\n",
       "    <tr>\n",
       "      <th>4</th>\n",
       "      <td>spam</td>\n",
       "      <td>HOT LIVE FANTASIES call now 08707509020 Just 2...</td>\n",
       "      <td>122</td>\n",
       "    </tr>\n",
       "  </tbody>\n",
       "</table>\n",
       "</div>"
      ],
      "text/plain": [
       "  Category                                            Message  Message Length\n",
       "0     spam  WIN a å£200 Shopping spree every WEEK Starting...             137\n",
       "1      ham  Lol yep did that yesterday. Already got my fir...             101\n",
       "2      ham          Easy ah?sen got selected means its good..              41\n",
       "3      ham  Eat jap done oso aft ur lect wat... ÌÏ got lec...              62\n",
       "4     spam  HOT LIVE FANTASIES call now 08707509020 Just 2...             122"
      ]
     },
     "execution_count": 21,
     "metadata": {},
     "output_type": "execute_result"
    }
   ],
   "source": [
    "df.head()"
   ]
  },
  {
   "cell_type": "code",
   "execution_count": 22,
   "id": "d94ab5fa",
   "metadata": {},
   "outputs": [],
   "source": [
    "df[\"Label\"]=df[\"Category\"].map(\n",
    "    {\n",
    "        \"ham\":0,\n",
    "        \"spam\":1\n",
    "    }\n",
    ")"
   ]
  },
  {
   "cell_type": "code",
   "execution_count": 23,
   "id": "d1dfd480",
   "metadata": {},
   "outputs": [
    {
     "data": {
      "text/html": [
       "<div>\n",
       "<style scoped>\n",
       "    .dataframe tbody tr th:only-of-type {\n",
       "        vertical-align: middle;\n",
       "    }\n",
       "\n",
       "    .dataframe tbody tr th {\n",
       "        vertical-align: top;\n",
       "    }\n",
       "\n",
       "    .dataframe thead th {\n",
       "        text-align: right;\n",
       "    }\n",
       "</style>\n",
       "<table border=\"1\" class=\"dataframe\">\n",
       "  <thead>\n",
       "    <tr style=\"text-align: right;\">\n",
       "      <th></th>\n",
       "      <th>Category</th>\n",
       "      <th>Message</th>\n",
       "      <th>Message Length</th>\n",
       "      <th>Label</th>\n",
       "    </tr>\n",
       "  </thead>\n",
       "  <tbody>\n",
       "    <tr>\n",
       "      <th>0</th>\n",
       "      <td>spam</td>\n",
       "      <td>WIN a å£200 Shopping spree every WEEK Starting...</td>\n",
       "      <td>137</td>\n",
       "      <td>1</td>\n",
       "    </tr>\n",
       "    <tr>\n",
       "      <th>1</th>\n",
       "      <td>ham</td>\n",
       "      <td>Lol yep did that yesterday. Already got my fir...</td>\n",
       "      <td>101</td>\n",
       "      <td>0</td>\n",
       "    </tr>\n",
       "    <tr>\n",
       "      <th>2</th>\n",
       "      <td>ham</td>\n",
       "      <td>Easy ah?sen got selected means its good..</td>\n",
       "      <td>41</td>\n",
       "      <td>0</td>\n",
       "    </tr>\n",
       "    <tr>\n",
       "      <th>3</th>\n",
       "      <td>ham</td>\n",
       "      <td>Eat jap done oso aft ur lect wat... ÌÏ got lec...</td>\n",
       "      <td>62</td>\n",
       "      <td>0</td>\n",
       "    </tr>\n",
       "    <tr>\n",
       "      <th>4</th>\n",
       "      <td>spam</td>\n",
       "      <td>HOT LIVE FANTASIES call now 08707509020 Just 2...</td>\n",
       "      <td>122</td>\n",
       "      <td>1</td>\n",
       "    </tr>\n",
       "  </tbody>\n",
       "</table>\n",
       "</div>"
      ],
      "text/plain": [
       "  Category                                            Message  Message Length  \\\n",
       "0     spam  WIN a å£200 Shopping spree every WEEK Starting...             137   \n",
       "1      ham  Lol yep did that yesterday. Already got my fir...             101   \n",
       "2      ham          Easy ah?sen got selected means its good..              41   \n",
       "3      ham  Eat jap done oso aft ur lect wat... ÌÏ got lec...              62   \n",
       "4     spam  HOT LIVE FANTASIES call now 08707509020 Just 2...             122   \n",
       "\n",
       "   Label  \n",
       "0      1  \n",
       "1      0  \n",
       "2      0  \n",
       "3      0  \n",
       "4      1  "
      ]
     },
     "execution_count": 23,
     "metadata": {},
     "output_type": "execute_result"
    }
   ],
   "source": [
    "df.head()"
   ]
  },
  {
   "cell_type": "code",
   "execution_count": 24,
   "id": "331256be",
   "metadata": {},
   "outputs": [],
   "source": [
    "import re\n",
    "import nltk\n",
    "from nltk.corpus import stopwords\n",
    "from nltk.stem import PorterStemmer\n",
    "stemmer=PorterStemmer()\n",
    "#declare empty list to store tokenized message\n",
    "corpus=[]\n",
    "\n",
    "#iterate through the df[\"Message\"]\n",
    "for message in df[\"Message\"]:\n",
    "    \n",
    "    #replace every special characters, numbers etc.. with whitespace of message\n",
    "    #It will help retain only letter/alphabets\n",
    "    message=re.sub(\"[^a-zA-Z]\",\" \",message)\n",
    "    \n",
    "    #convert every letters to its lowercase\n",
    "    message=message.lower()\n",
    "    \n",
    "    #split the word into individual word list\n",
    "    message=message.split()\n",
    "    \n",
    "    #perform stemming using PorterStemmer for all non-english-stopwords\n",
    "    message=[stemmer.stem(words)\n",
    "            for words in message\n",
    "             if words not in set(stopwords.words(\"english\"))\n",
    "            ]\n",
    "    #join the word lists with the whitespace\n",
    "    message=\" \".join(message)\n",
    "    \n",
    "    #append the message in corpus list\n",
    "    corpus.append(message)\n"
   ]
  },
  {
   "cell_type": "code",
   "execution_count": 25,
   "id": "282e8476",
   "metadata": {},
   "outputs": [],
   "source": [
    "from tensorflow.keras.preprocessing.text import one_hot\n",
    "vocab_size=10000\n",
    "\n",
    "oneHot_doc=[one_hot(words,n=vocab_size)\n",
    "           for words in corpus\n",
    "           ]"
   ]
  },
  {
   "cell_type": "code",
   "execution_count": 26,
   "id": "2f594814",
   "metadata": {},
   "outputs": [
    {
     "data": {
      "text/plain": [
       "count    1494.000000\n",
       "mean      104.963186\n",
       "std        58.325420\n",
       "min         5.000000\n",
       "25%        49.000000\n",
       "50%       120.000000\n",
       "75%       153.000000\n",
       "max       790.000000\n",
       "Name: Message Length, dtype: float64"
      ]
     },
     "execution_count": 26,
     "metadata": {},
     "output_type": "execute_result"
    }
   ],
   "source": [
    "df[\"Message Length\"].describe()"
   ]
  },
  {
   "cell_type": "code",
   "execution_count": 27,
   "id": "d7c43afc",
   "metadata": {},
   "outputs": [
    {
     "data": {
      "image/png": "[encoded data removed]",
      "text/plain": [
       "<Figure size 1200x800 with 1 Axes>"
      ]
     },
     "metadata": {},
     "output_type": "display_data"
    }
   ],
   "source": [
    "fig=plt.figure(figsize=(12,8))\n",
    "sns.kdeplot(\n",
    "    x=df[\"Message Length\"],\n",
    "    hue=df[\"Category\"]\n",
    ")\n",
    "plt.title(\"ham & spam messege length comparision\")\n",
    "plt.show()"
   ]
  },
  {
   "cell_type": "code",
   "execution_count": 28,
   "id": "5f23772b",
   "metadata": {},
   "outputs": [],
   "source": [
    "from tensorflow.keras.preprocessing.sequence import pad_sequences\n",
    "sentence_len=200\n",
    "embedded_doc=pad_sequences(\n",
    "    oneHot_doc,\n",
    "    maxlen=sentence_len,\n",
    "    padding=\"pre\"\n",
    ")\n"
   ]
  },
  {
   "cell_type": "code",
   "execution_count": 29,
   "id": "ccfbde83",
   "metadata": {},
   "outputs": [],
   "source": [
    "extract_features=pd.DataFrame(\n",
    "    data=embedded_doc\n",
    ")\n",
    "target=df[\"Label\"]"
   ]
  },
  {
   "cell_type": "code",
   "execution_count": 30,
   "id": "1f5d18fb",
   "metadata": {},
   "outputs": [],
   "source": [
    "df_final=pd.concat([extract_features,target],axis=1)"
   ]
  },
  {
   "cell_type": "code",
   "execution_count": 31,
   "id": "742bfcf5",
   "metadata": {},
   "outputs": [
    {
     "data": {
      "text/html": [
       "<div>\n",
       "<style scoped>\n",
       "    .dataframe tbody tr th:only-of-type {\n",
       "        vertical-align: middle;\n",
       "    }\n",
       "\n",
       "    .dataframe tbody tr th {\n",
       "        vertical-align: top;\n",
       "    }\n",
       "\n",
       "    .dataframe thead th {\n",
       "        text-align: right;\n",
       "    }\n",
       "</style>\n",
       "<table border=\"1\" class=\"dataframe\">\n",
       "  <thead>\n",
       "    <tr style=\"text-align: right;\">\n",
       "      <th></th>\n",
       "      <th>0</th>\n",
       "      <th>1</th>\n",
       "      <th>2</th>\n",
       "      <th>3</th>\n",
       "      <th>4</th>\n",
       "      <th>5</th>\n",
       "      <th>6</th>\n",
       "      <th>7</th>\n",
       "      <th>8</th>\n",
       "      <th>9</th>\n",
       "      <th>...</th>\n",
       "      <th>191</th>\n",
       "      <th>192</th>\n",
       "      <th>193</th>\n",
       "      <th>194</th>\n",
       "      <th>195</th>\n",
       "      <th>196</th>\n",
       "      <th>197</th>\n",
       "      <th>198</th>\n",
       "      <th>199</th>\n",
       "      <th>Label</th>\n",
       "    </tr>\n",
       "  </thead>\n",
       "  <tbody>\n",
       "    <tr>\n",
       "      <th>0</th>\n",
       "      <td>0</td>\n",
       "      <td>0</td>\n",
       "      <td>0</td>\n",
       "      <td>0</td>\n",
       "      <td>0</td>\n",
       "      <td>0</td>\n",
       "      <td>0</td>\n",
       "      <td>0</td>\n",
       "      <td>0</td>\n",
       "      <td>0</td>\n",
       "      <td>...</td>\n",
       "      <td>4510</td>\n",
       "      <td>6914</td>\n",
       "      <td>8628</td>\n",
       "      <td>4872</td>\n",
       "      <td>8126</td>\n",
       "      <td>3419</td>\n",
       "      <td>3875</td>\n",
       "      <td>6809</td>\n",
       "      <td>3773</td>\n",
       "      <td>1</td>\n",
       "    </tr>\n",
       "    <tr>\n",
       "      <th>1</th>\n",
       "      <td>0</td>\n",
       "      <td>0</td>\n",
       "      <td>0</td>\n",
       "      <td>0</td>\n",
       "      <td>0</td>\n",
       "      <td>0</td>\n",
       "      <td>0</td>\n",
       "      <td>0</td>\n",
       "      <td>0</td>\n",
       "      <td>0</td>\n",
       "      <td>...</td>\n",
       "      <td>2525</td>\n",
       "      <td>5181</td>\n",
       "      <td>2312</td>\n",
       "      <td>8998</td>\n",
       "      <td>659</td>\n",
       "      <td>1313</td>\n",
       "      <td>6679</td>\n",
       "      <td>4829</td>\n",
       "      <td>9659</td>\n",
       "      <td>0</td>\n",
       "    </tr>\n",
       "    <tr>\n",
       "      <th>2</th>\n",
       "      <td>0</td>\n",
       "      <td>0</td>\n",
       "      <td>0</td>\n",
       "      <td>0</td>\n",
       "      <td>0</td>\n",
       "      <td>0</td>\n",
       "      <td>0</td>\n",
       "      <td>0</td>\n",
       "      <td>0</td>\n",
       "      <td>0</td>\n",
       "      <td>...</td>\n",
       "      <td>0</td>\n",
       "      <td>0</td>\n",
       "      <td>691</td>\n",
       "      <td>2715</td>\n",
       "      <td>6175</td>\n",
       "      <td>659</td>\n",
       "      <td>6303</td>\n",
       "      <td>7820</td>\n",
       "      <td>292</td>\n",
       "      <td>0</td>\n",
       "    </tr>\n",
       "    <tr>\n",
       "      <th>3</th>\n",
       "      <td>0</td>\n",
       "      <td>0</td>\n",
       "      <td>0</td>\n",
       "      <td>0</td>\n",
       "      <td>0</td>\n",
       "      <td>0</td>\n",
       "      <td>0</td>\n",
       "      <td>0</td>\n",
       "      <td>0</td>\n",
       "      <td>0</td>\n",
       "      <td>...</td>\n",
       "      <td>850</td>\n",
       "      <td>1829</td>\n",
       "      <td>3721</td>\n",
       "      <td>8892</td>\n",
       "      <td>3128</td>\n",
       "      <td>3080</td>\n",
       "      <td>659</td>\n",
       "      <td>3128</td>\n",
       "      <td>198</td>\n",
       "      <td>0</td>\n",
       "    </tr>\n",
       "    <tr>\n",
       "      <th>4</th>\n",
       "      <td>0</td>\n",
       "      <td>0</td>\n",
       "      <td>0</td>\n",
       "      <td>0</td>\n",
       "      <td>0</td>\n",
       "      <td>0</td>\n",
       "      <td>0</td>\n",
       "      <td>0</td>\n",
       "      <td>0</td>\n",
       "      <td>0</td>\n",
       "      <td>...</td>\n",
       "      <td>4029</td>\n",
       "      <td>9231</td>\n",
       "      <td>5438</td>\n",
       "      <td>8160</td>\n",
       "      <td>6920</td>\n",
       "      <td>5112</td>\n",
       "      <td>1262</td>\n",
       "      <td>5650</td>\n",
       "      <td>9808</td>\n",
       "      <td>1</td>\n",
       "    </tr>\n",
       "  </tbody>\n",
       "</table>\n",
       "<p>5 rows × 201 columns</p>\n",
       "</div>"
      ],
      "text/plain": [
       "   0  1  2  3  4  5  6  7  8  9  ...   191   192   193   194   195   196  \\\n",
       "0  0  0  0  0  0  0  0  0  0  0  ...  4510  6914  8628  4872  8126  3419   \n",
       "1  0  0  0  0  0  0  0  0  0  0  ...  2525  5181  2312  8998   659  1313   \n",
       "2  0  0  0  0  0  0  0  0  0  0  ...     0     0   691  2715  6175   659   \n",
       "3  0  0  0  0  0  0  0  0  0  0  ...   850  1829  3721  8892  3128  3080   \n",
       "4  0  0  0  0  0  0  0  0  0  0  ...  4029  9231  5438  8160  6920  5112   \n",
       "\n",
       "    197   198   199  Label  \n",
       "0  3875  6809  3773      1  \n",
       "1  6679  4829  9659      0  \n",
       "2  6303  7820   292      0  \n",
       "3   659  3128   198      0  \n",
       "4  1262  5650  9808      1  \n",
       "\n",
       "[5 rows x 201 columns]"
      ]
     },
     "execution_count": 31,
     "metadata": {},
     "output_type": "execute_result"
    }
   ],
   "source": [
    "df_final.head()"
   ]
  },
  {
   "cell_type": "code",
   "execution_count": 32,
   "id": "9f1ece7b",
   "metadata": {},
   "outputs": [],
   "source": [
    "X=df_final.drop(\"Label\",axis=1)\n",
    "y=df_final[\"Label\"]\n"
   ]
  },
  {
   "cell_type": "code",
   "execution_count": 33,
   "id": "477d48c8",
   "metadata": {},
   "outputs": [],
   "source": [
    "from sklearn.model_selection import train_test_split"
   ]
  },
  {
   "cell_type": "code",
   "execution_count": 34,
   "id": "ebd26bae",
   "metadata": {},
   "outputs": [],
   "source": [
    "X_trainval,X_test,y_trainval,y_test=train_test_split(\n",
    "    X,\n",
    "    y,\n",
    "    random_state=42,\n",
    "    test_size=0.15\n",
    ")"
   ]
  },
  {
   "cell_type": "code",
   "execution_count": 35,
   "id": "d3d9ca8d",
   "metadata": {},
   "outputs": [],
   "source": [
    "X_train,X_val,y_train,y_val=train_test_split(\n",
    "    X_trainval,\n",
    "    y_trainval,\n",
    "    random_state=42,\n",
    "    test_size=0.15\n",
    ")"
   ]
  },
  {
   "cell_type": "code",
   "execution_count": 36,
   "id": "5565e07e",
   "metadata": {},
   "outputs": [],
   "source": [
    "from tensorflow.keras.layers import LSTM\n",
    "from tensorflow.keras.layers import Dense\n",
    "from tensorflow.keras.layers import Embedding\n",
    "from tensorflow.keras.models import Sequential"
   ]
  },
  {
   "cell_type": "code",
   "execution_count": 37,
   "id": "34290fe7",
   "metadata": {},
   "outputs": [],
   "source": [
    "model=Sequential()"
   ]
  },
  {
   "cell_type": "code",
   "execution_count": 38,
   "id": "6bb3be9d",
   "metadata": {},
   "outputs": [],
   "source": [
    "feature_num=100\n",
    "model.add(\n",
    "    Embedding(\n",
    "        input_dim=vocab_size,\n",
    "        output_dim=feature_num,\n",
    "        input_length=sentence_len\n",
    "    )\n",
    ")\n",
    "model.add(\n",
    "    LSTM(\n",
    "    units=128\n",
    "    )\n",
    ")\n",
    "\n",
    "model.add(\n",
    "    Dense(\n",
    "        units=1,\n",
    "        activation=\"sigmoid\"\n",
    "    )\n",
    ")"
   ]
  },
  {
   "cell_type": "code",
   "execution_count": 39,
   "id": "d6e75369",
   "metadata": {},
   "outputs": [],
   "source": [
    "from tensorflow.keras.optimizers import Adam\n",
    "model.compile(\n",
    "    optimizer=Adam(\n",
    "    learning_rate=0.001\n",
    "    ),\n",
    "    loss=\"binary_crossentropy\",\n",
    "    metrics=[\"accuracy\"]\n",
    ")"
   ]
  },
  {
   "cell_type": "code",
   "execution_count": 51,
   "id": "39942af8",
   "metadata": {},
   "outputs": [
    {
     "name": "stdout",
     "output_type": "stream",
     "text": [
      "Epoch 1/10\n",
      "34/34 [==============================] - 5s 148ms/step - loss: 0.0065 - accuracy: 0.9991 - val_loss: 0.0330 - val_accuracy: 0.9895\n",
      "Epoch 2/10\n",
      "34/34 [==============================] - 5s 150ms/step - loss: 0.0043 - accuracy: 0.9991 - val_loss: 0.0222 - val_accuracy: 0.9895\n",
      "Epoch 3/10\n",
      "34/34 [==============================] - 5s 146ms/step - loss: 0.0031 - accuracy: 0.9991 - val_loss: 0.0414 - val_accuracy: 0.9843\n",
      "Epoch 4/10\n",
      "34/34 [==============================] - 5s 148ms/step - loss: 0.0021 - accuracy: 0.9991 - val_loss: 0.0461 - val_accuracy: 0.9791\n",
      "Epoch 5/10\n",
      "34/34 [==============================] - 5s 149ms/step - loss: 0.0015 - accuracy: 1.0000 - val_loss: 0.0389 - val_accuracy: 0.9843\n",
      "Epoch 6/10\n",
      "34/34 [==============================] - 5s 148ms/step - loss: 0.0014 - accuracy: 0.9991 - val_loss: 0.0557 - val_accuracy: 0.9791\n",
      "Epoch 7/10\n",
      "34/34 [==============================] - 5s 146ms/step - loss: 9.7816e-04 - accuracy: 1.0000 - val_loss: 0.0551 - val_accuracy: 0.9843\n",
      "Epoch 8/10\n",
      "34/34 [==============================] - 5s 145ms/step - loss: 7.9279e-04 - accuracy: 1.0000 - val_loss: 0.0570 - val_accuracy: 0.9843\n",
      "Epoch 9/10\n",
      "34/34 [==============================] - 5s 147ms/step - loss: 7.0428e-04 - accuracy: 1.0000 - val_loss: 0.0668 - val_accuracy: 0.9791\n",
      "Epoch 10/10\n",
      "34/34 [==============================] - 6s 176ms/step - loss: 6.0051e-04 - accuracy: 1.0000 - val_loss: 0.0652 - val_accuracy: 0.9791\n"
     ]
    },
    {
     "data": {
      "text/plain": [
       "<keras.callbacks.History at 0x20213a68c40>"
      ]
     },
     "execution_count": 51,
     "metadata": {},
     "output_type": "execute_result"
    }
   ],
   "source": [
    "model.fit(\n",
    "    X_train,\n",
    "    y_train,\n",
    "    validation_data=(\n",
    "        X_val,\n",
    "        y_val\n",
    "    ),\n",
    "    epochs=10\n",
    ")"
   ]
  },
  {
   "cell_type": "code",
   "execution_count": 52,
   "id": "72738947",
   "metadata": {},
   "outputs": [
    {
     "name": "stdout",
     "output_type": "stream",
     "text": [
      "8/8 [==============================] - 1s 69ms/step\n"
     ]
    }
   ],
   "source": [
    "y_pred=model.predict(X_test)\n",
    "y_pred=(y_pred>0.5)"
   ]
  },
  {
   "cell_type": "code",
   "execution_count": 53,
   "id": "debb97b9",
   "metadata": {},
   "outputs": [],
   "source": [
    "from sklearn.metrics import accuracy_score,confusion_matrix"
   ]
  },
  {
   "cell_type": "code",
   "execution_count": 54,
   "id": "e20d6fdf",
   "metadata": {},
   "outputs": [
    {
     "name": "stdout",
     "output_type": "stream",
     "text": [
      "Test Score:95.56%\n"
     ]
    }
   ],
   "source": [
    "score=accuracy_score(y_test,y_pred)\n",
    "print(\"Test Score:{:.2f}%\".format(score*100))"
   ]
  },
  {
   "cell_type": "code",
   "execution_count": 59,
   "id": "9ed6e412",
   "metadata": {},
   "outputs": [
    {
     "data": {
      "text/plain": [
       "array([[ 99,   5],\n",
       "       [  5, 116]], dtype=int64)"
      ]
     },
     "execution_count": 59,
     "metadata": {},
     "output_type": "execute_result"
    },
    {
     "data": {
      "image/png": "[encoded data removed]",
      "text/plain": [
       "<Figure size 1200x800 with 2 Axes>"
      ]
     },
     "metadata": {},
     "output_type": "display_data"
    }
   ],
   "source": [
    "cm=confusion_matrix(y_test,y_pred)\n",
    "fig=plt.figure(figsize=(12,8))\n",
    "sns.heatmap(\n",
    "    cm,\n",
    "    annot=True,\n",
    ")\n",
    "plt.title(\"Confusion Matrix\")\n",
    "cm"
   ]
  },
  {
   "cell_type": "code",
   "execution_count": 60,
   "id": "ea44d201",
   "metadata": {},
   "outputs": [],
   "source": [
    "#The function take model and message as parameter\n",
    "def classify_message(model,message):\n",
    "    \n",
    "    #We will treat message as a paragraphs containing multiple sentences(lines)\n",
    "    #we will extract individual lines\n",
    "    for sentences in message:\n",
    "        sentences=nltk.sent_tokenize(message)\n",
    "        \n",
    "        #Iterate over individual sentences\n",
    "        for sentence in sentences:\n",
    "            #replace all special characters\n",
    "            words=re.sub(\"[^a-zA-Z]\",\" \",sentence)\n",
    "            \n",
    "            #perform word tokenization of all non-english-stopwords\n",
    "            if words not in set(stopwords.words('english')):\n",
    "                word=nltk.word_tokenize(words)\n",
    "                word=\" \".join(word)\n",
    "    \n",
    "    #perform one_hot on tokenized word            \n",
    "    oneHot=[one_hot(word,n=vocab_size)]\n",
    "    \n",
    "    #create an embedded documnet using pad_sequences \n",
    "    #this can be fed to our model\n",
    "    text=pad_sequences(oneHot,maxlen=sentence_len,padding=\"pre\")\n",
    "    \n",
    "    #predict the text using model\n",
    "    predict=model.predict(text)\n",
    "    \n",
    "    #if predict value is greater than 0.5 its a spam\n",
    "    if predict>0.5:\n",
    "        print(\"It is a spam\")\n",
    "    #else the message is not a spam    \n",
    "    else:\n",
    "        print(\"It is not a spam\")"
   ]
  },
  {
   "cell_type": "code",
   "execution_count": 68,
   "id": "96d92339",
   "metadata": {},
   "outputs": [
    {
     "name": "stdout",
     "output_type": "stream",
     "text": [
      "1/1 [==============================] - 0s 17ms/step\n",
      "It is not a spam\n",
      "1/1 [==============================] - 0s 25ms/step\n",
      "It is a spam\n",
      "1/1 [==============================] - 0s 20ms/step\n",
      "It is not a spam\n"
     ]
    }
   ],
   "source": [
    "\n",
    "# Example usage\n",
    "message1 = \"I am having a bad day \"\n",
    "message2 = \"This is to inform you had won a lottery and the subscription will end in a week so call us\"\n",
    "message3 = \"Hi,This is Nitesh\"\n",
    "# Call the function with the model and messages\n",
    "classify_message(model, message1)\n",
    "classify_message(model, message2)\n",
    "classify_message(model, message3)"
   ]
  },
  {
   "cell_type": "code",
   "execution_count": null,
   "id": "7cc37465",
   "metadata": {},
   "outputs": [],
   "source": []
  },
  {
   "cell_type": "code",
   "execution_count": null,
   "id": "54e7789f",
   "metadata": {},
   "outputs": [],
   "source": []
  }
 ],
 "metadata": {
  "kernelspec": {
   "display_name": "Python 3 (ipykernel)",
   "language": "python",
   "name": "python3"
  },
  "language_info": {
   "codemirror_mode": {
    "name": "ipython",
    "version": 3
   },
   "file_extension": ".py",
   "mimetype": "text/x-python",
   "name": "python",
   "nbconvert_exporter": "python",
   "pygments_lexer": "ipython3",
   "version": "3.9.13"
  }
 },
 "nbformat": 4,
 "nbformat_minor": 5
}
